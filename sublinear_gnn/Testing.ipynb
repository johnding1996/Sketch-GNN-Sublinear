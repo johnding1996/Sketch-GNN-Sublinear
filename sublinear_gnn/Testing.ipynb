{
 "cells": [
  {
   "cell_type": "code",
   "execution_count": 1,
   "id": "b03e2735-6b70-4872-bc42-a8d3835ea5b8",
   "metadata": {},
   "outputs": [],
   "source": [
    "import torch\n",
    "import math\n",
    "from ogb.nodeproppred import PygNodePropPredDataset\n",
    "import torch_geometric.transforms as T\n",
    "from torch_geometric.nn.conv.gcn_conv import gcn_norm\n",
    "from torch_sparse import SparseTensor\n",
    "\n",
    "from sketch import CountSketch, TensorSketch"
   ]
  },
  {
   "cell_type": "code",
   "execution_count": 2,
   "id": "bc50ba70-9d16-4526-b2f5-f8c1b1bdced9",
   "metadata": {},
   "outputs": [],
   "source": [
    "dataset = PygNodePropPredDataset(name='ogbn-arxiv', transform=T.ToSparseTensor(), root=\"../dataset\")\n",
    "data = dataset[0]\n",
    "conv_mat = gcn_norm(data.adj_t.to_symmetric(), edge_weight=None,\n",
    "                    num_nodes=data.x.size(0), improved=False,\n",
    "                    add_self_loops=True, dtype=torch.float32)\n",
    "nf_mat = data.x\n",
    "\n",
    "item = torch.arange(math.ceil(data.x.size(0) * 0.1), dtype=torch.long)\n",
    "conv_mat = conv_mat.saint_subgraph(item)[0]\n",
    "nf_mat = nf_mat[item, :]\n",
    "\n",
    "in_dim = conv_mat.size(0)\n",
    "out_dim = int(in_dim * 0.1)\n",
    "\n",
    "count_sketch = CountSketch(in_dim, out_dim)\n",
    "conv_sketch = count_sketch(count_sketch(conv_mat).t()).t()"
   ]
  },
  {
   "cell_type": "code",
   "execution_count": 3,
   "id": "cb45b0c8-6c15-4b03-bb20-203c26eb2982",
   "metadata": {},
   "outputs": [],
   "source": [
    "def top_k_sparsifying(conv_sketch, top_k):\n",
    "    conv_sketch_sparsified = torch.topk(conv_sketch, k=top_k, dim=-1)\n",
    "    conv_sketch_sparsified = SparseTensor(row=torch.arange(conv_sketch.size(0), dtype=torch.long).repeat_interleave(top_k), \n",
    "                                          col=conv_sketch_sparsified.indices.flatten(), value=conv_sketch_sparsified.values.flatten(),\n",
    "                                          sparse_sizes=(conv_sketch.size(0), conv_sketch.size(1)), is_sorted=False)\n",
    "    return conv_sketch_sparsified"
   ]
  },
  {
   "cell_type": "code",
   "execution_count": 4,
   "id": "8a80c2d5-6a67-4864-b839-666909e80599",
   "metadata": {},
   "outputs": [
    {
     "name": "stdout",
     "output_type": "stream",
     "text": [
      "1: 0.13234886527061462\n",
      "2: 0.10862584412097931\n",
      "3: 0.10012906044721603\n",
      "4: 0.09636086970567703\n",
      "5: 0.09451214224100113\n",
      "6: 0.09352024644613266\n",
      "7: 0.0929645299911499\n",
      "8: 0.09264307469129562\n",
      "9: 0.092458575963974\n",
      "10: 0.09234696626663208\n",
      "11: 0.09227889776229858\n",
      "12: 0.09223224222660065\n",
      "13: 0.0921991616487503\n",
      "14: 0.09217651188373566\n",
      "15: 0.09216027706861496\n",
      "16: 0.09214799106121063\n"
     ]
    }
   ],
   "source": [
    "for top_k in range(1, 17):\n",
    "    conv_sparsified = top_k_sparsifying(conv_sketch, top_k).to_dense()\n",
    "    print(f'{top_k}: {torch.norm(conv_sketch - conv_sparsified)/torch.norm(conv_sketch)}')"
   ]
  },
  {
   "cell_type": "code",
   "execution_count": 5,
   "id": "5a4bba61-c4f2-40e8-b4fa-11487b3ac1f2",
   "metadata": {},
   "outputs": [],
   "source": [
    "conv_sparsified = top_k_sparsifying(conv_sketch, top_k=4)"
   ]
  },
  {
   "cell_type": "code",
   "execution_count": 6,
   "id": "fa0b390c-81c2-426d-9323-ad0b3672e3ef",
   "metadata": {},
   "outputs": [
    {
     "data": {
      "text/plain": [
       "tensor([[-0.1198, -0.0719, -0.1841,  ...,  0.2934, -0.3095, -0.2924],\n",
       "        [-0.3808, -0.2476, -0.9778,  ...,  0.3168, -0.9381, -0.8327],\n",
       "        [-0.1992, -0.0633, -0.4452,  ...,  0.2870,  0.2768, -0.3381],\n",
       "        ...,\n",
       "        [-0.3385,  0.4881, -0.6637,  ...,  0.3804, -0.5179, -0.3545],\n",
       "        [ 0.3610,  0.2201, -0.3786,  ...,  0.1228,  0.1520, -0.1758],\n",
       "        [-0.1291, -0.1395, -0.5764,  ...,  0.0950, -0.3974, -0.3890]])"
      ]
     },
     "execution_count": 6,
     "metadata": {},
     "output_type": "execute_result"
    }
   ],
   "source": [
    "conv_sparsified @ nf_mat"
   ]
  },
  {
   "cell_type": "code",
   "execution_count": null,
   "id": "efd9ab8c-611a-4efb-8ffc-8c1822a4128d",
   "metadata": {},
   "outputs": [],
   "source": []
  }
 ],
 "metadata": {
  "kernelspec": {
   "display_name": "Python 3 (ipykernel)",
   "language": "python",
   "name": "python3"
  },
  "language_info": {
   "codemirror_mode": {
    "name": "ipython",
    "version": 3
   },
   "file_extension": ".py",
   "mimetype": "text/x-python",
   "name": "python",
   "nbconvert_exporter": "python",
   "pygments_lexer": "ipython3",
   "version": "3.7.9"
  }
 },
 "nbformat": 4,
 "nbformat_minor": 5
}
